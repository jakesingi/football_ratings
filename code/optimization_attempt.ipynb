{
 "cells": [
  {
   "cell_type": "code",
   "execution_count": null,
   "metadata": {},
   "outputs": [],
   "source": [
    "# # Make initial predictions\n",
    "# def predict(home_advantage, home_rating, away_rating):\n",
    "#     return home_advantage + home_rating - away_rating\n",
    "\n",
    "# scores_merged['Prediction'] = scores_merged.apply(lambda row: predict(home_edge, row['Rating_Home'], row['Rating_Away']), axis = 1)\n",
    "\n",
    "# # Calculate error as Margin - Prediction\n",
    "# scores_merged['Error'] = scores_merged['Margin'] - scores_merged['Prediction']\n",
    "\n",
    "# # Square each error\n",
    "# scores_merged['Squared Error'] = scores_merged['Error']**2 \n",
    "\n",
    "# display(scores_merged.head())\n",
    "# scores_merged.to_csv(\"./nfl_game_data.csv\")  # Export to csv so we can use Excel solver..."
   ]
  },
  {
   "cell_type": "code",
   "execution_count": null,
   "metadata": {},
   "outputs": [],
   "source": [
    "# # Example\n",
    "# dat = {\"Home_Team\": [\"KC Chiefs\", \"LA Chargers\", \"Baltimore Ravens\"],\n",
    "#        \"Away_Team\": [\"Houston Texans\", \"Miami Dolphins\", \"KC Chiefs\"],\n",
    "#        \"Home_Score\": [34, 20, 20],\n",
    "#        \"Away_Score\": [20, 23, 34],\n",
    "#        \"Margin\": [14, -3, -34]\n",
    "#       }\n",
    "# df = pd.DataFrame(dat)\n",
    "\n",
    "# # Our objective function, where x is our array of parameters, x[0] is the home edge, x[1] the home rating, and x[2] the away rating\n",
    "# # Y is the true, observed margin\n",
    "# def obj_fun(x, Y):\n",
    "#     y = x[0] + x[1] - x[2]\n",
    "#     return np.sum((y - Y)**2)\n",
    "\n",
    "# # Define the constraint function. We have that the ratings average to 0\n",
    "# def con(x):\n",
    "#     return np.mean(x[1])\n",
    "\n",
    "# # Constraint dictionary\n",
    "# cons = {'type': 'eq', 'fun': con}\n",
    "\n",
    "# # Minimize sum of squared errors\n",
    "# from scipy import optimize\n",
    "\n",
    "# # Initial guesses (numbers I randomly thought of in my head)\n",
    "# home_edge = 0.892\n",
    "# home_ratings = np.array([1.46, 9.67, -0.82])\n",
    "# away_ratings = np.array([-3.10, -6.57, 1.46])\n",
    "# x_init = [np.repeat(home_edge, 3), home_ratings, away_ratings]\n",
    "\n",
    "# # Minimize\n",
    "# results = optimize.minimize(fun = obj_fun, args = (df[\"Margin\"]), x0 = x_init, constraints = cons)\n",
    "\n",
    "# print(results.x)"
   ]
  },
  {
   "cell_type": "code",
   "execution_count": null,
   "metadata": {},
   "outputs": [],
   "source": [
    "# # Optimize\n",
    "\n",
    "# # Now we write our objective function, where x is our array of parameters, x[0] is the home edge, x[1] the home rating, and x[2] the away rating\n",
    "# # Y is the true margin\n",
    "# def obj_fun(x, Y):\n",
    "#     y = x[0] + x[1] - x[2]\n",
    "#     return np.sum((y - Y)**2)\n",
    "\n",
    "# # Define the constraint function. We have that the ratings average to 0\n",
    "# def con(x):\n",
    "#     return np.mean(x[1])\n",
    "\n",
    "# # Constraint dictionary\n",
    "# cons = {'type': 'eq', 'fun': con}\n",
    "\n",
    "# # Minimize sum of squared errors\n",
    "# from scipy import optimize\n",
    "\n",
    "# # Initial guess\n",
    "# x_init = [home_edge, scores_merged[\"Rating_Home\"], scores_merged[\"Rating_Away\"]]\n",
    "\n",
    "# # Minimize\n",
    "# results = optimize.leastsq(func = obj_fun, args = (scores_merged[\"Margin\"]), x0 = x_init)"
   ]
  }
 ],
 "metadata": {
  "kernelspec": {
   "display_name": "Python 3",
   "language": "python",
   "name": "python3"
  },
  "language_info": {
   "codemirror_mode": {
    "name": "ipython",
    "version": 3
   },
   "file_extension": ".py",
   "mimetype": "text/x-python",
   "name": "python",
   "nbconvert_exporter": "python",
   "pygments_lexer": "ipython3",
   "version": "3.7.4"
  }
 },
 "nbformat": 4,
 "nbformat_minor": 4
}
